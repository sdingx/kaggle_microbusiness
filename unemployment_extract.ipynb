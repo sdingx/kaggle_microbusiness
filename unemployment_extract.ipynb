{
 "cells": [
  {
   "cell_type": "code",
   "execution_count": null,
   "metadata": {},
   "outputs": [],
   "source": [
    "import pandas as pd\n",
    "import numpy as np\n",
    "import matplotlib.pyplot as plt\n",
    "import seaborn as sns\n",
    "from plotnine import *\n",
    "from plotnine.data import *\n",
    "import re"
   ]
  },
  {
   "cell_type": "code",
   "execution_count": null,
   "metadata": {},
   "outputs": [],
   "source": [
    "unemployment = pd.read_csv('data/la.data.64.County.csv', sep = '\\t')\n",
    "unemployment = unemployment.drop('footnote_codes', axis = 1)\n",
    "unemployment = unemployment[unemployment.year >= 2017]\n",
    "unemployment.rename(columns={\"series_id                     \": \"series_id\", \"       value\": \"rate\"}, inplace=True)\n",
    "\n",
    "# extract the county fips code from the series_id 6th to 10th character\n",
    "unemployment['cfips'] = unemployment['series_id'].str[5:10]\n",
    "\n",
    "# filter to only rate data\n",
    "unemployment = unemployment[unemployment.series_id.str[18:20] == '03']\n",
    "\n",
    "# removing tabs from the rate column\n",
    "unemployment.rate = unemployment.rate.apply(lambda x: str(x).replace('\\t', ''))\n",
    "unemployment.rate = unemployment.rate.apply(lambda x: str(x).replace(' ', ''))\n",
    "\n",
    "# puerto rico has no unemployment data, drop them\n",
    "unemployment = unemployment[unemployment.rate != '-']\n",
    "\n",
    "# convert rate to float\n",
    "unemployment['rate'] = unemployment['rate'].astype(float)\n",
    "\n",
    "# convert rate to decimals\n",
    "unemployment.rate = unemployment.rate.apply(lambda x: x/100)\n",
    "\n",
    "unemployment.head(3)\n",
    "\n",
    "\n"
   ]
  },
  {
   "cell_type": "code",
   "execution_count": null,
   "metadata": {},
   "outputs": [],
   "source": [
    "unemployment.to_csv('data/unemployment.csv')"
   ]
  }
 ],
 "metadata": {
  "kernelspec": {
   "display_name": "msca",
   "language": "python",
   "name": "python3"
  },
  "language_info": {
   "name": "python",
   "version": "3.9.12"
  },
  "orig_nbformat": 4,
  "vscode": {
   "interpreter": {
    "hash": "e96a9ae7204b5256d8b19cf66a373b98da0afb4c319f8f1c3e687e1731d507b4"
   }
  }
 },
 "nbformat": 4,
 "nbformat_minor": 2
}
